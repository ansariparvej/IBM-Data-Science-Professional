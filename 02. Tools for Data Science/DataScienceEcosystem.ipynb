{
 "cells": [
  {
   "cell_type": "code",
   "execution_count": 1,
   "id": "43268e1d",
   "metadata": {},
   "outputs": [],
   "source": [
    "## Exercise 1: Create a Jupyter Notebook: ==> Done."
   ]
  },
  {
   "cell_type": "code",
   "execution_count": 2,
   "id": "4f09eac1",
   "metadata": {},
   "outputs": [],
   "source": [
    "## Exercise 2: Create markdown cell with title of the notebook:"
   ]
  },
  {
   "cell_type": "markdown",
   "id": "349166ca",
   "metadata": {},
   "source": [
    "# Data Science Tools and Ecosystem"
   ]
  },
  {
   "cell_type": "code",
   "execution_count": 4,
   "id": "0434269a",
   "metadata": {},
   "outputs": [],
   "source": [
    "## Exercise 3 - Create a markdown cell for an introduction:"
   ]
  },
  {
   "cell_type": "markdown",
   "id": "37888320",
   "metadata": {},
   "source": [
    "\"In this notebook, we provide a comprehensive summary of the Data Science Tools and Ecosystem, covering a range of essential tools, libraries, and frameworks used in the field of data science.\""
   ]
  },
  {
   "cell_type": "code",
   "execution_count": 5,
   "id": "e9897f19",
   "metadata": {},
   "outputs": [],
   "source": [
    "## Exercise 4 - Create a markdown cell to list data science languages:"
   ]
  },
  {
   "cell_type": "markdown",
   "id": "34a033f6",
   "metadata": {},
   "source": [
    "Some of the popular languages that Data Scientists use are:\n",
    "\n",
    "1. Python\n",
    "2. R\n",
    "3. Julia"
   ]
  },
  {
   "cell_type": "code",
   "execution_count": 6,
   "id": "7143b1fa",
   "metadata": {},
   "outputs": [],
   "source": [
    "## Exercise 5 - Create a markdown cell to list data science libraries:"
   ]
  },
  {
   "cell_type": "markdown",
   "id": "a30d959c",
   "metadata": {},
   "source": [
    "Some of the commonly used libraries used by Data Scientists include:\n",
    "\n",
    "1. NumPy\n",
    "2. Pandas\n",
    "3. Scikit-learn\n",
    "4. Matplotlib\n",
    "5. Seaborn"
   ]
  },
  {
   "cell_type": "code",
   "execution_count": 7,
   "id": "ca682086",
   "metadata": {},
   "outputs": [],
   "source": [
    "## Exercise 6 - Create a markdown cell with a table of Data Science tools:"
   ]
  },
  {
   "cell_type": "markdown",
   "id": "de72ff5f",
   "metadata": {},
   "source": [
    "| Data Science Tools |\n",
    "|-------------------|\n",
    "| Jupyter Notebook  |\n",
    "| RStudio           |\n",
    "| PyCharm           |"
   ]
  },
  {
   "cell_type": "code",
   "execution_count": 8,
   "id": "ff0075c9",
   "metadata": {},
   "outputs": [],
   "source": [
    "## Exercise 7 - Create a markdown cell introducing arithmetic expression examples:"
   ]
  },
  {
   "cell_type": "markdown",
   "id": "fe1e6bec",
   "metadata": {},
   "source": [
    "### Below are a few examples of evaluating arithmetic expressions in Python."
   ]
  },
  {
   "cell_type": "code",
   "execution_count": 9,
   "id": "9ed86706",
   "metadata": {},
   "outputs": [],
   "source": [
    "## Exercise 8 - Create a code cell to multiply and add numbers:"
   ]
  },
  {
   "cell_type": "code",
   "execution_count": 10,
   "id": "785f0bcb",
   "metadata": {},
   "outputs": [
    {
     "data": {
      "text/plain": [
       "17"
      ]
     },
     "execution_count": 10,
     "metadata": {},
     "output_type": "execute_result"
    }
   ],
   "source": [
    "# This is a simple arithmetic expression to multiply then add integers\n",
    "result = (3 * 4) + 5\n",
    "result"
   ]
  },
  {
   "cell_type": "code",
   "execution_count": 11,
   "id": "fa9c4df4",
   "metadata": {},
   "outputs": [],
   "source": [
    "## Exercise 9 - Create a code cell to convert minutes to hours:"
   ]
  },
  {
   "cell_type": "code",
   "execution_count": 12,
   "id": "322057cf",
   "metadata": {},
   "outputs": [
    {
     "data": {
      "text/plain": [
       "3.3333333333333335"
      ]
     },
     "execution_count": 12,
     "metadata": {},
     "output_type": "execute_result"
    }
   ],
   "source": [
    "# This will convert 200 minutes to hours by dividing by 60\n",
    "minutes = 200\n",
    "hours = minutes / 60\n",
    "hours"
   ]
  },
  {
   "cell_type": "code",
   "execution_count": 13,
   "id": "88c0a3e9",
   "metadata": {},
   "outputs": [],
   "source": [
    "## Exercise 10 - Insert a markdown cell to list Objectives:"
   ]
  },
  {
   "cell_type": "markdown",
   "id": "65247497",
   "metadata": {},
   "source": [
    "**Objectives:**\n",
    "\n",
    "- List popular languages for Data Science.\n",
    "- Summarize the Data Science Tools and Ecosystem.\n",
    "- Identify commonly used libraries in Data Science.\n",
    "- Understand arithmetic expressions in Python.\n",
    "- Convert minutes to hours using Python."
   ]
  },
  {
   "cell_type": "code",
   "execution_count": 14,
   "id": "61dc02d4",
   "metadata": {},
   "outputs": [],
   "source": [
    "## Exercise 11 - Create a markdown cell to indicate the Author's name: "
   ]
  },
  {
   "cell_type": "markdown",
   "id": "fa949d6d",
   "metadata": {},
   "source": [
    "## Author\n",
    "PARVEJ ALAM ANSARI"
   ]
  },
  {
   "cell_type": "code",
   "execution_count": 15,
   "id": "8e137cae",
   "metadata": {},
   "outputs": [],
   "source": [
    "## Exercise 12 - Share your notebook through GitHub ==> Done."
   ]
  },
  {
   "cell_type": "code",
   "execution_count": 16,
   "id": "aada820f",
   "metadata": {},
   "outputs": [],
   "source": [
    "## Exercise 13 -Take a screenshot of the first page of the notebook and save it as 1-notebook.png ==> Done."
   ]
  },
  {
   "cell_type": "code",
   "execution_count": null,
   "id": "4a236d85",
   "metadata": {},
   "outputs": [],
   "source": []
  }
 ],
 "metadata": {
  "kernelspec": {
   "display_name": "Python 3 (ipykernel)",
   "language": "python",
   "name": "python3"
  },
  "language_info": {
   "codemirror_mode": {
    "name": "ipython",
    "version": 3
   },
   "file_extension": ".py",
   "mimetype": "text/x-python",
   "name": "python",
   "nbconvert_exporter": "python",
   "pygments_lexer": "ipython3",
   "version": "3.9.16"
  }
 },
 "nbformat": 4,
 "nbformat_minor": 5
}
